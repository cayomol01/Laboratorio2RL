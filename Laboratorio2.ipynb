{
 "cells": [
  {
   "cell_type": "code",
   "execution_count": 14,
   "metadata": {},
   "outputs": [],
   "source": [
    "class MDP():\n",
    "    def __init__(self):\n",
    "        self.states = self.getStates()\n",
    "        self.actions = self.getActions()\n",
    "        self.map = self.getMap()\n",
    "        self.transitions = self.getTransitions()\n",
    "\n",
    "        self.rewards = self.getRewards()\n",
    "        self.policy = self.getPolicy()\n",
    "    \n",
    "    def getStates(self):\n",
    "        states = [i for i in range(9)]\n",
    "        return states\n",
    "\n",
    "    def getRewards(self):\n",
    "        pass\n",
    "    \n",
    "    def getPolicy(self):\n",
    "        pass\n",
    "    \n",
    "    def checkPosition(self, state, action):\n",
    "        indexState = self.states.index(state)\n",
    "        if action=='arriba':\n",
    "            if (indexState-3) < 0:\n",
    "                return indexState\n",
    "            else:\n",
    "                return indexState-3\n",
    "        elif action == 'abajo':\n",
    "            if (indexState+3) > len(self.states)-1:\n",
    "                return indexState\n",
    "            else:\n",
    "                return indexState+3\n",
    "        elif action=='izquierda':\n",
    "            if (indexState%3)== 0 :\n",
    "                return indexState\n",
    "            else:\n",
    "                return indexState-1\n",
    "        elif action=='derecha':\n",
    "            if (indexState%3)== 2:\n",
    "                return indexState\n",
    "            else:\n",
    "                return indexState+1\n",
    "        \n",
    "    \n",
    "    def getTransitions(self):\n",
    "        p = {}\n",
    "        for i in self.states:\n",
    "            p[i] = {}\n",
    "            for j in self.actions:\n",
    "                p[i][j] = self.checkPosition(i, j)\n",
    "        return p\n",
    "    \n",
    "    def getMap(self):\n",
    "        map = ['S', ' ', 'G',\n",
    "               ' ', 'X', ' ',\n",
    "               ' ', ' ', 'X']\n",
    "        return map\n",
    "\n",
    "    def getActions(self):\n",
    "        actions = ['arriba', 'abajo', 'izquierda', 'derecha']\n",
    "        return actions\n",
    "\n"
   ]
  },
  {
   "cell_type": "code",
   "execution_count": 15,
   "metadata": {},
   "outputs": [
    {
     "name": "stdout",
     "output_type": "stream",
     "text": [
      "2 hola\n",
      "3 hola\n",
      "5 hola\n",
      "7 hola\n",
      "8 hola\n",
      "0 {'arriba': 0, 'abajo': 3, 'izquierda': 0, 'derecha': 1}\n",
      "1 {'arriba': 1, 'abajo': 1, 'izquierda': 0, 'derecha': 2}\n",
      "2 {'arriba': 2, 'abajo': 5, 'izquierda': 1, 'derecha': 2}\n",
      "3 {'arriba': 0, 'abajo': 6, 'izquierda': 3, 'derecha': 3}\n",
      "4 {'arriba': 1, 'abajo': 7, 'izquierda': 3, 'derecha': 5}\n",
      "5 {'arriba': 2, 'abajo': 5, 'izquierda': 5, 'derecha': 5}\n",
      "6 {'arriba': 3, 'abajo': 6, 'izquierda': 6, 'derecha': 7}\n",
      "7 {'arriba': 7, 'abajo': 7, 'izquierda': 6, 'derecha': 7}\n",
      "8 {'arriba': 5, 'abajo': 8, 'izquierda': 7, 'derecha': 8}\n"
     ]
    }
   ],
   "source": [
    "prueba = MDP()\n",
    "\n",
    "for key, value in prueba.transitions.items():\n",
    "    print(key, value)"
   ]
  },
  {
   "cell_type": "code",
   "execution_count": null,
   "metadata": {},
   "outputs": [],
   "source": []
  }
 ],
 "metadata": {
  "kernelspec": {
   "display_name": "Python 3",
   "language": "python",
   "name": "python3"
  },
  "language_info": {
   "codemirror_mode": {
    "name": "ipython",
    "version": 3
   },
   "file_extension": ".py",
   "mimetype": "text/x-python",
   "name": "python",
   "nbconvert_exporter": "python",
   "pygments_lexer": "ipython3",
   "version": "3.10.0"
  }
 },
 "nbformat": 4,
 "nbformat_minor": 2
}
